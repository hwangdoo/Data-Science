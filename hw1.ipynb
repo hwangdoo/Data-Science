{
 "cells": [
  {
   "cell_type": "code",
   "execution_count": 9,
   "id": "732d8e94-ace5-4841-8e7b-a48a78c43eaa",
   "metadata": {},
   "outputs": [],
   "source": [
    "lovely_loveseat_description = \"Tufted polyester blend on wood. 32 inches high x 40 inches wide x 30 inches deep. Red or white.\"\n",
    "lovely_loveseat_price = 254.00\n",
    "\n",
    "Stylish_settee_description = \"Stylish Settee. Faux leather on birch. 29.50 inches high x 54.75 inches wide x 28 inches deep. Black.\"\n",
    "stylish_settee_price = 180.50\n",
    "\n",
    "Luxury_lamp_description = \"Luxurious Lamp. Glass and iron. 36 inches tall. Brown with cream shade.\"\n",
    "Luxury_lamp_price = 52.15"
   ]
  },
  {
   "cell_type": "code",
   "execution_count": 30,
   "id": "dfb620fb-f760-4414-ac71-2159108dfaf9",
   "metadata": {},
   "outputs": [],
   "source": [
    "sales_tax = .088"
   ]
  },
  {
   "cell_type": "code",
   "execution_count": 37,
   "id": "ce611bfa-a4c1-4615-9280-c23ee4f2c4d8",
   "metadata": {},
   "outputs": [],
   "source": [
    "customer_one_total = lovely_loveseat_price + Luxury_lamp_price \n",
    "customer_one_itemization = lovely_loveseat_description + Luxury_lamp_description\n",
    "customer_one_tax = customer_one_total * sales_tax"
   ]
  },
  {
   "cell_type": "code",
   "execution_count": 38,
   "id": "1be33bc5-647f-4179-ad33-130552fcff77",
   "metadata": {},
   "outputs": [
    {
     "name": "stdout",
     "output_type": "stream",
     "text": [
      "Customer One Items:\n",
      "Tufted polyester blend on wood. 32 inches high x 40 inches wide x 30 inches deep. Red or white.Luxurious Lamp. Glass and iron. 36 inches tall. Brown with cream shade.\n",
      "Customer One Total:\n",
      "333.09119999999996\n"
     ]
    }
   ],
   "source": [
    "print(\"Customer One Items:\")\n",
    "print(customer_one_itemization)\n",
    "print(\"Customer One Total:\")\n",
    "print(customer_one_total + customer_one_tax )"
   ]
  },
  {
   "cell_type": "code",
   "execution_count": null,
   "id": "b17bd189-0fcc-4520-8b56-54a374f2853d",
   "metadata": {},
   "outputs": [],
   "source": []
  }
 ],
 "metadata": {
  "kernelspec": {
   "display_name": "Python 3 (ipykernel)",
   "language": "python",
   "name": "python3"
  },
  "language_info": {
   "codemirror_mode": {
    "name": "ipython",
    "version": 3
   },
   "file_extension": ".py",
   "mimetype": "text/x-python",
   "name": "python",
   "nbconvert_exporter": "python",
   "pygments_lexer": "ipython3",
   "version": "3.9.12"
  }
 },
 "nbformat": 4,
 "nbformat_minor": 5
}
